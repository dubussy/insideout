{
  "nbformat": 4,
  "nbformat_minor": 0,
  "metadata": {
    "kernelspec": {
      "display_name": "Python 3",
      "language": "python",
      "name": "python3"
    },
    "language_info": {
      "codemirror_mode": {
        "name": "ipython",
        "version": 3
      },
      "file_extension": ".py",
      "mimetype": "text/x-python",
      "name": "python",
      "nbconvert_exporter": "python",
      "pygments_lexer": "ipython3",
      "version": "3.8.3"
    },
    "colab": {
      "name": "population.ipynb의 사본",
      "provenance": [],
      "include_colab_link": true
    }
  },
  "cells": [
    {
      "cell_type": "markdown",
      "metadata": {
        "id": "view-in-github",
        "colab_type": "text"
      },
      "source": [
        "<a href=\"https://colab.research.google.com/github/dubussy/insideout/blob/main/1%EC%9B%9412%EC%9D%BC%EC%8B%A4%EC%8A%B5.ipynb\" target=\"_parent\"><img src=\"https://colab.research.google.com/assets/colab-badge.svg\" alt=\"Open In Colab\"/></a>"
      ]
    },
    {
      "cell_type": "code",
      "metadata": {
        "id": "im3JJ2GqWOgu"
      },
      "source": [
        "#한글 나눔폰트 설치\r\n",
        "!apt-get update -qq\r\n",
        "!apt-get install fonts-nanum* -qq"
      ],
      "execution_count": null,
      "outputs": []
    },
    {
      "cell_type": "code",
      "metadata": {
        "id": "89mpelIDWdAi"
      },
      "source": [
        "import matplotlib.font_manager as fm\r\n",
        "fm._rebuild()\r\n",
        "#실행 후 런타임 - 런타임 다시 시작하기"
      ],
      "execution_count": null,
      "outputs": []
    },
    {
      "cell_type": "markdown",
      "metadata": {
        "id": "UBOfXyOkt0G5"
      },
      "source": [
        "<2020년 12월 전국 **읍면동** 남녀 0세~100세 이상 연령별 인구 데이터 사용>"
      ]
    },
    {
      "cell_type": "markdown",
      "metadata": {
        "id": "GrpFCMZ75tLc"
      },
      "source": [
        "# 1. 우리 동네 인구피라미드 그래프 그리기"
      ]
    },
    {
      "cell_type": "code",
      "metadata": {
        "id": "Q2BjUcNfW8XZ"
      },
      "source": [
        "from google.colab import files \r\n",
        "uploaded = files.upload()\r\n",
        "#'202012town'파일 선택하기"
      ],
      "execution_count": null,
      "outputs": []
    },
    {
      "cell_type": "code",
      "metadata": {
        "id": "bDGJ5BDtzBoH"
      },
      "source": [
        "#2020년 동네 인구피라미드 그래프 (학생들이 사는 동네 관심 유발하기)\n",
        "import csv\n",
        "f=open('202012town.csv', encoding = 'cp949')\n",
        "data=csv.reader(f)\n",
        "m=[]\n",
        "f=[]\n",
        "name=input('원하는 동네명을 입력해주세요:')   \n",
        "for row in data:\n",
        "    if name in row[0]:\n",
        "        for i in range(0,101):\n",
        "            m.append(-int(row[i+3].replace(',','')))\n",
        "            f.append(int(row[-(i+1)].replace(',','')))\n",
        "f.reverse()\n",
        "\n",
        "import matplotlib.pyplot as plt\n",
        "plt.style.use('ggplot')\n",
        "plt.figure(figsize=(8,5),dpi=200)\n",
        "plt.rc('font', family='NanumGothic')\n",
        "plt.rcParams['axes.unicode_minus']=False\n",
        "plt.title(name+' 남녀 성별 인구 분포(2020년)')\n",
        "plt.barh(range(101),m, label='남성')\n",
        "plt.barh(range(101),f,label='여성')\n",
        "plt.legend()\n",
        "plt.show()"
      ],
      "execution_count": null,
      "outputs": []
    },
    {
      "cell_type": "markdown",
      "metadata": {
        "id": "oa87VMT-6Q9i"
      },
      "source": [
        "#2. 2010년 인구 피라미드 그래프 (10년 전과 비교해보기)"
      ]
    },
    {
      "cell_type": "markdown",
      "metadata": {
        "id": "bt8TCRKoxz-J"
      },
      "source": [
        "<2010년 전국 **읍면동** 남녀 1세~100세 이상 연령별 인구 데이터 사용>"
      ]
    },
    {
      "cell_type": "code",
      "metadata": {
        "id": "sqwDaPzPYDXo"
      },
      "source": [
        "from google.colab import files \r\n",
        "uploaded = files.upload()\r\n",
        "#'2010town' 파일 선택하기"
      ],
      "execution_count": null,
      "outputs": []
    },
    {
      "cell_type": "code",
      "metadata": {
        "id": "o0rCfVHVzBoI"
      },
      "source": [
        "# 2010년 우리 동네 인구피라미드 그래프 (저출산 고령화)\n",
        "import csv\n",
        "f=open('2010town.csv', encoding = 'cp949')\n",
        "data=csv.reader(f)\n",
        "m=[]\n",
        "f=[]\n",
        "name=input('원하는 동네명을 입력해주세요:')   \n",
        "for row in data:\n",
        "    if name in row[0]:\n",
        "        for i in range(0,101):\n",
        "            m.append(-int(row[i+3].replace(',','')))\n",
        "            f.append(int(row[-(i+1)].replace(',','')))\n",
        "f.reverse()\n",
        "\n",
        "import matplotlib.pyplot as plt\n",
        "plt.style.use('ggplot')\n",
        "plt.figure(figsize=(8,5),dpi=200)\n",
        "plt.rc('font', family='NanumGothic')\n",
        "plt.rcParams['axes.unicode_minus']=False\n",
        "plt.title(name+' 남녀 성별 인구 분포(2010년)')\n",
        "plt.barh(range(101),m, label='남성')\n",
        "plt.barh(range(101),f,label='여성')\n",
        "plt.legend()\n",
        "plt.show()"
      ],
      "execution_count": null,
      "outputs": []
    },
    {
      "cell_type": "markdown",
      "metadata": {
        "id": "Fz4H5vZP0AyU"
      },
      "source": [
        "<2020년 전국 **읍면동** 0세~100세 이상 연령별 인구 데이터 사용> -남녀구분X 총합"
      ]
    },
    {
      "cell_type": "markdown",
      "metadata": {
        "id": "D9iX5a6u6nD9"
      },
      "source": [
        "#3. 우리 동네의 저출산 고령화 알아보기(연령별 인구 구성 원그래프 그려보기)"
      ]
    },
    {
      "cell_type": "code",
      "metadata": {
        "id": "1k2iffxxYVUr"
      },
      "source": [
        "from google.colab import files \r\n",
        "uploaded = files.upload()\r\n",
        "#'2020age' 파일 선택하기"
      ],
      "execution_count": null,
      "outputs": []
    },
    {
      "cell_type": "code",
      "metadata": {
        "id": "TATyTW2pzBoJ"
      },
      "source": [
        "#@title\n",
        "# 우리 동네의 저출산 고령화 알아보기(연령별 인구 구성 원그래프 그려보기)\n",
        "import csv\n",
        "f=open('2020age.csv', encoding = 'cp949')\n",
        "data=csv.reader(f)\n",
        "ch=0\n",
        "ad=0\n",
        "se=0\n",
        "size=[]\n",
        "\n",
        "name=input('알고 싶은 동네를 입력해주세요:')\n",
        "\n",
        "for row in data:\n",
        "    if name in row[0]:\n",
        "        for i in range(3,18):\n",
        "            ch += int(row[i].replace(',',''))\n",
        "        for i in range(18,68):\n",
        "            ad += int(row[i].replace(',',''))\n",
        "        for i in range(68,104):\n",
        "            se += int(row[i].replace(',',''))\n",
        "size.append(ch)\n",
        "size.append(ad)\n",
        "size.append(se)\n",
        "\n",
        "import matplotlib.pyplot as plt\n",
        "plt.figure(figsize=(8,4),dpi=200)\n",
        "plt.rc('font', family='NanumGothic')\n",
        "color=['lime','royalblue','yellow']\n",
        "plt.axis('equal')\n",
        "\n",
        "plt.pie(size, labels=['유소년층','청장년층','노년층'], autopct='%.1f%%', colors=color)\n",
        "plt.title(name+' 지역의 인구 구성 비율')\n",
        "plt.show()\n",
        "print('*기준: 노년층 비율 7% 이상 - 고령화 사회, 14% 이상- 고령 사회, 20% 이상- 초고령 사회')"
      ],
      "execution_count": null,
      "outputs": []
    },
    {
      "cell_type": "markdown",
      "metadata": {
        "id": "vsiY3hit2-Oo"
      },
      "source": [
        "<2016 - 2020년 **서울 자치구별** 만7세~12세(초등학생) 인구 합계 데이터 사용> "
      ]
    },
    {
      "cell_type": "markdown",
      "metadata": {
        "id": "ZVkErtSa7u25"
      },
      "source": [
        "#4. 우리 동네(구)의 초등학생은 정말 감소했을까?(꺾은선 그래프)"
      ]
    },
    {
      "cell_type": "code",
      "metadata": {
        "id": "uB2vLVPYZLkk"
      },
      "source": [
        "from google.colab import files \r\n",
        "uploaded = files.upload()\r\n",
        "#'elementary' 파일 선택하기"
      ],
      "execution_count": null,
      "outputs": []
    },
    {
      "cell_type": "code",
      "metadata": {
        "id": "anaay58PzBoM"
      },
      "source": [
        "#우리 동네(구)의 초등학생은 정말 감소했을까?(꺾은선 그래프)\n",
        "import csv\n",
        "f=open('elementary.csv', encoding='cp949')\n",
        "data=csv.reader(f)\n",
        "name=input('알고싶은 구 이름을 입력하세요:')\n",
        "result=[]\n",
        "gap=0\n",
        "\n",
        "for row in data:\n",
        "    if name in row[0]:\n",
        "        for i in row[1:]:\n",
        "            result.append(int(i.replace(',','')))\n",
        "        gap=int(row[-1].replace(',',''))-int(row[1].replace(',',''))\n",
        "import matplotlib.pyplot as plt\n",
        "plt.style.use('ggplot')\n",
        "plt.rc('font',family='NanumGothic')\n",
        "plt.title(name+' 지역의 최근 5년간 초등학생수 변화')\n",
        "plt.xticks(range(5),['2016','2017','2018','2019','2020'])\n",
        "plt.xlabel('연도')\n",
        "plt.ylabel('학생수')\n",
        "plt.plot(result)\n",
        "plt.show()\n",
        "print('학생수 차이(명):',gap)"
      ],
      "execution_count": null,
      "outputs": []
    },
    {
      "cell_type": "code",
      "metadata": {
        "id": "Vn03P6pSzBoO"
      },
      "source": [
        "#최근 5년간 초등학생 인구가 가장 감소한 구는?(꺾은선 그래프)-Flourish로 비교 "
      ],
      "execution_count": null,
      "outputs": []
    },
    {
      "cell_type": "markdown",
      "metadata": {
        "id": "LiRlmM6549-g"
      },
      "source": [
        "https://public.flourish.studio/visualisation/4835652/\r\n"
      ]
    }
  ]
}